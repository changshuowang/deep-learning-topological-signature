{
 "cells": [
  {
   "cell_type": "markdown",
   "metadata": {},
   "source": [
    "### In this notebook, we use Gudhi to compute persistence diagrams on the animal or mpeg7 dataset"
   ]
  },
  {
   "cell_type": "code",
   "execution_count": 1,
   "metadata": {},
   "outputs": [],
   "source": [
    "import numpy              as np\n",
    "import math       \n",
    "import sys\n",
    "import matplotlib.pyplot  as plt\n",
    "import matplotlib.image   as mpimg\n",
    "import gudhi              as gd"
   ]
  },
  {
   "cell_type": "markdown",
   "metadata": {},
   "source": [
    "All tif files of animal dataset are available at https://sites.google.com/site/xiangbai/animaldataset\n",
    "\n",
    "All gif files of mpeg7 dataset are available at http://www.dabi.temple.edu/~shape/MPEG7/dataset.html"
   ]
  },
  {
   "cell_type": "code",
   "execution_count": 2,
   "metadata": {},
   "outputs": [
    {
     "data": {
      "image/png": "[encoded data removed]",
      "text/plain": [
       "<matplotlib.figure.Figure at 0x7fddf3936a50>"
      ]
     },
     "metadata": {},
     "output_type": "display_data"
    },
    {
     "name": "stdout",
     "output_type": "stream",
     "text": [
      "Computing barycenter... (184, 177)\n",
      "Done.\n",
      "Computing bounding radius... 183.3303030052588\n",
      "Done.\n",
      "Computing persistence diagram...Done.\n",
      "\n",
      "[(0, (-0.8018314353398703, inf)), (0, (-0.3763698574044289, 0.3054595944151887))]\n"
     ]
    },
    {
     "data": {
      "image/png": "[encoded data removed]",
      "text/plain": [
       "<matplotlib.figure.Figure at 0x7fddf1800b10>"
      ]
     },
     "metadata": {},
     "output_type": "display_data"
    }
   ],
   "source": [
    "# labels of animal dataset:\n",
    "# bird butterfly cat cow crocodile deer dog dolphine duck elephant fish\n",
    "# flyingbird hen horse leopard monkey rabbit rat spider tortoise\n",
    "\n",
    "# labels of mpeg7 dataset:\n",
    "# apple bat beetle bell bird bone bottle brick butterfly camel \n",
    "# car carriage cattle cellphone chicken child chopper classic comma crown\n",
    "# cup deer device0 device1 device2 device3 device4 device5 device6 device7\n",
    "# device8 device9 dog elephant face fish flatfish fly fork fountain\n",
    "# frog glas guitar hammer hat hcircle heart horse horseshoe jar\n",
    "# key lizzard imfixh misk octopus pencil car pocket rat ray\n",
    "# seasnake shoe spoon spring stef teddy tree truck turtle watch\n",
    "\n",
    "# Select dataset\n",
    "dataset    = 'mpeg7'\n",
    "\n",
    "# Select label\n",
    "animal     = 'cup'\n",
    "# Select index of image (1--100 for animal, 1--20 for mpeg7)\n",
    "img_idx    = 15\n",
    "# Select a direction between 1 and 32\n",
    "direction  = 8\n",
    "\n",
    "# Read and show image\n",
    "img = []\n",
    "if (dataset == 'animal'):\n",
    "    img = mpimg.imread('animal/%s/%s%d.tif' % (animal,animal,img_idx))\n",
    "if(dataset == 'mpeg7'):\n",
    "    img = mpimg.imread('mpeg7/%s-%d.gif' % (animal,img_idx))\n",
    "    \n",
    "plt.imshow(img)\n",
    "plt.show()\n",
    "\n",
    "if(len(img.shape) > 2):\n",
    "    bin_img = img[:,:,0]/255\n",
    "else:\n",
    "    bin_img = img/255\n",
    "    \n",
    "# Compute barycenter of shape\n",
    "sys.stdout.write('Computing barycenter... ')\n",
    "barycenter = np.array([0,0])\n",
    "shape_size = 0\n",
    "for i in range(bin_img.shape[0]):\n",
    "    for j in range(bin_img.shape[1]):\n",
    "        if(bin_img[i][j] == 1):\n",
    "            barycenter[0] += i\n",
    "            barycenter[1] += j\n",
    "            shape_size    += 1\n",
    "barycenter /= shape_size\n",
    "print(np.round(barycenter[0]),np.round(barycenter[1]))\n",
    "sys.stdout.write(\"Done.\\n\")\n",
    "\n",
    "# Compute bounding radius of shape\n",
    "sys.stdout.write('Computing bounding radius... ')\n",
    "bounding_radius = 0\n",
    "for i in range(bin_img.shape[0]):\n",
    "    for j in range(bin_img.shape[1]):\n",
    "        if(bin_img[i][j] == 1):\n",
    "            bounding_radius = max(bounding_radius, np.linalg.norm(np.array([i,j])-barycenter))\n",
    "print(bounding_radius)\n",
    "sys.stdout.write(\"Done.\\n\")\n",
    "    \n",
    "sys.stdout.write('Computing persistence diagram...')\n",
    "# Compute unit vector corresponding to selected direction\n",
    "theta = direction*2.0*math.pi/32\n",
    "unit_vector = np.array([-math.sin(theta), math.cos(theta)])\n",
    "    \n",
    "# Use normalized scalar product with unit vector as filtration value\n",
    "filt = []\n",
    "max_func = 0\n",
    "for j in range(bin_img.shape[1]):\n",
    "    for k in range(bin_img.shape[0]):\n",
    "        if(bin_img[k][j] == 1):\n",
    "            func = np.dot(np.array([k,j])-barycenter,unit_vector)/bounding_radius\n",
    "            filt.append(func)\n",
    "            max_func = max(max_func,func)\n",
    "        else:\n",
    "            filt.append(bounding_radius+1)\n",
    "\n",
    "# Compute persistence diagram with Gudhi using image as a cubical complex\n",
    "dim  = np.array([bin_img.shape[0], bin_img.shape[1]])\n",
    "cc   = gd.CubicalComplex(dimensions = dim, top_dimensional_cells = np.array(filt))\n",
    "diag = cc.persistence(homology_coeff_field=2, min_persistence=0)\n",
    "sys.stdout.write(\"Done.\\n\\n\")\n",
    "\n",
    "# Visualize persistence diagram\n",
    "print(diag)\n",
    "plot  = gd.plot_persistence_diagram(diag)\n",
    "plot.show()"
   ]
  },
  {
   "cell_type": "code",
   "execution_count": null,
   "metadata": {},
   "outputs": [],
   "source": []
  }
 ],
 "metadata": {
  "kernelspec": {
   "display_name": "Python 2",
   "language": "python",
   "name": "python2"
  },
  "language_info": {
   "codemirror_mode": {
    "name": "ipython",
    "version": 2
   },
   "file_extension": ".py",
   "mimetype": "text/x-python",
   "name": "python",
   "nbconvert_exporter": "python",
   "pygments_lexer": "ipython2",
   "version": "2.7.12"
  }
 },
 "nbformat": 4,
 "nbformat_minor": 2
}
