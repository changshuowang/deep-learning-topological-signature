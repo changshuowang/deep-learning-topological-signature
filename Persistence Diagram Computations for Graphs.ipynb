{
 "cells": [
  {
   "cell_type": "markdown",
   "metadata": {},
   "source": [
    "### In this notebook, we use Gudhi to compute persistence diagrams on the reddit 5K dataset"
   ]
  },
  {
   "cell_type": "code",
   "execution_count": 1,
   "metadata": {},
   "outputs": [],
   "source": [
    "import numpy              as np\n",
    "import pickle\n",
    "import gudhi              as gd"
   ]
  },
  {
   "cell_type": "markdown",
   "metadata": {},
   "source": [
    "# Load data\n",
    "The graph file is available at Pinar Yanardag's webpage: http://www.mit.edu/~pinary/ (item \"Data\" in section \"Deep Graph Kernel\")"
   ]
  },
  {
   "cell_type": "code",
   "execution_count": 2,
   "metadata": {},
   "outputs": [],
   "source": [
    "graph_dataset = pickle.load(open(\"reddit_5K/reddit_multi_5K.graph\"))"
   ]
  },
  {
   "cell_type": "markdown",
   "metadata": {},
   "source": [
    "# Persistence diagram computation"
   ]
  },
  {
   "cell_type": "code",
   "execution_count": 3,
   "metadata": {},
   "outputs": [
    {
     "data": {
      "image/png": "[encoded data removed]",
      "text/plain": [
       "<matplotlib.figure.Figure at 0x7f884040da90>"
      ]
     },
     "metadata": {},
     "output_type": "display_data"
    }
   ],
   "source": [
    "# Choose graph to compute persistence diagram\n",
    "# There 5000 graphs available so specify idx with 0 <= idx <= 4999\n",
    "\n",
    "idx = 0\n",
    "graph = graph_dataset['graph'][idx]\n",
    "\n",
    "# Create a simplex tree to store the filtration\n",
    "st = gd.SimplexTree()\n",
    "\n",
    "# Compute maximal degree of the graph\n",
    "max_degree = 0\n",
    "for node, info in graph.iteritems():\n",
    "    degree = len(info['neighbors'])\n",
    "    max_degree = max(degree,max_degree)\n",
    "\n",
    "# Compute degree for each node and use it as filtration value\n",
    "for node, info in graph.iteritems():\n",
    "    num_neighb = len(info['neighbors'])\n",
    "    degree = num_neighb*1.0/max_degree\n",
    "    st.insert([node],filtration=degree)\n",
    "    \n",
    "    # Derive edge filtration value by taking maximum\n",
    "    for i in range(num_neighb):\n",
    "        degree_neighbor = len(graph[info['neighbors'][i]]['neighbors'])*1.0/max_degree\n",
    "        st.insert([node, info['neighbors'][i]], filtration=max(degree,degree_neighbor))\n",
    "\n",
    "# Compute persistence\n",
    "diag = st.persistence()\n",
    "\n",
    "# Visualize persistence diagram\n",
    "plot = gd.plot_persistence_diagram(diag)\n",
    "plot.show()"
   ]
  },
  {
   "cell_type": "code",
   "execution_count": null,
   "metadata": {},
   "outputs": [],
   "source": []
  }
 ],
 "metadata": {
  "kernelspec": {
   "display_name": "Python 2",
   "language": "python",
   "name": "python2"
  },
  "language_info": {
   "codemirror_mode": {
    "name": "ipython",
    "version": 2
   },
   "file_extension": ".py",
   "mimetype": "text/x-python",
   "name": "python",
   "nbconvert_exporter": "python",
   "pygments_lexer": "ipython2",
   "version": "2.7.12"
  }
 },
 "nbformat": 4,
 "nbformat_minor": 2
}
